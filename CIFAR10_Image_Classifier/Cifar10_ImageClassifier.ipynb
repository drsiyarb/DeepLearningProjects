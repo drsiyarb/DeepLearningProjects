{
  "nbformat": 4,
  "nbformat_minor": 0,
  "metadata": {
    "colab": {
      "name": "Cifar10_ImageClassifier_v2.ipynb",
      "provenance": [],
      "collapsed_sections": [],
      "toc_visible": true,
      "machine_shape": "hm",
      "authorship_tag": "ABX9TyPCgLrK1cIJtC5kaIsuHVGK",
      "include_colab_link": true
    },
    "kernelspec": {
      "display_name": "Python 3",
      "name": "python3"
    },
    "accelerator": "GPU"
  },
  "cells": [
    {
      "cell_type": "markdown",
      "metadata": {
        "id": "view-in-github",
        "colab_type": "text"
      },
      "source": [
        "<a href=\"https://colab.research.google.com/github/vasugupta9/DeepLearningProjects/blob/main/CIFAR10_Image_Classifier/Cifar10_ImageClassifier.ipynb\" target=\"_parent\"><img src=\"https://colab.research.google.com/assets/colab-badge.svg\" alt=\"Open In Colab\"/></a>"
      ]
    },
    {
      "cell_type": "code",
      "metadata": {
        "id": "MjzPfXdR50ff"
      },
      "source": [
        "# importing required libraries\n",
        "import numpy as np\n",
        "import matplotlib.pyplot as plt \n",
        "from tensorflow.keras.datasets import cifar10\n",
        "from tensorflow.keras.models import Sequential\n",
        "from tensorflow.keras.layers import Conv2D, Dense, Flatten, MaxPooling2D, BatchNormalization, Dropout"
      ],
      "execution_count": 1,
      "outputs": []
    },
    {
      "cell_type": "code",
      "metadata": {
        "colab": {
          "base_uri": "https://localhost:8080/"
        },
        "id": "xwJrg32a7itw",
        "outputId": "b9c76392-242f-435b-d63e-c2c906f8698a"
      },
      "source": [
        "# Loading the cifar-10 dataset \n",
        "# cifar10 is a dataset of 50,000 32x32 color training images and 10,000 test images, labeled over 10 categories. \n",
        "(x_train, y_train), (x_test, y_test) = cifar10.load_data()\n",
        "print(x_train.shape, y_train.shape)\n",
        "print(x_test.shape, y_test.shape)\n",
        "print(np.min(x_train), np.max(x_train)) # to check if scaling to the range 0-1 is needed\n",
        "print(np.min(y_train), np.max(y_train))"
      ],
      "execution_count": 2,
      "outputs": [
        {
          "output_type": "stream",
          "text": [
            "Downloading data from https://www.cs.toronto.edu/~kriz/cifar-10-python.tar.gz\n",
            "170500096/170498071 [==============================] - 4s 0us/step\n",
            "(50000, 32, 32, 3) (50000, 1)\n",
            "(10000, 32, 32, 3) (10000, 1)\n",
            "0 255\n",
            "0 9\n"
          ],
          "name": "stdout"
        }
      ]
    },
    {
      "cell_type": "code",
      "metadata": {
        "id": "CL2-Mc0TE_he"
      },
      "source": [
        "# scaling x_train and x_test values to the range 0-1\n",
        "x_train_scaled = x_train/255.\n",
        "x_test_scaled  = x_test/255.\n",
        "# y_train, y_test values are already labelled as integers from 0 to 9 , so no preprocessing required"
      ],
      "execution_count": 3,
      "outputs": []
    },
    {
      "cell_type": "code",
      "metadata": {
        "colab": {
          "base_uri": "https://localhost:8080/"
        },
        "id": "b2A2O8cjFhbE",
        "outputId": "56207d39-de18-44be-be46-75676649f9ec"
      },
      "source": [
        "# Defining the CNN architecture using keras Sequential API (a minified version of VGGNet)\n",
        "model = Sequential()\n",
        "model.add(Conv2D(32, kernel_size=(3,3), padding=\"same\", activation=\"relu\", input_shape=(32,32,3)))\n",
        "model.add(BatchNormalization())\n",
        "model.add(Conv2D(32, kernel_size=(3,3), padding=\"same\", activation=\"relu\"))\n",
        "model.add(BatchNormalization())\n",
        "model.add(MaxPooling2D(pool_size=(2,2),  strides=(2,2)))\n",
        "model.add(Dropout(0.25))\n",
        "model.add(Conv2D(64, kernel_size=(3,3), padding=\"same\", activation=\"relu\"))\n",
        "model.add(BatchNormalization())\n",
        "model.add(Conv2D(64, kernel_size=(3,3), padding=\"same\", activation=\"relu\"))\n",
        "model.add(BatchNormalization())\n",
        "model.add(MaxPooling2D(pool_size=(2,2),  strides=(2,2)))\n",
        "model.add(Dropout(0.25))\n",
        "model.add(Flatten())\n",
        "model.add(Dense(512, activation=\"relu\"))\n",
        "model.add(BatchNormalization())\n",
        "model.add(Dropout(0.5))\n",
        "model.add(Dense(10, activation=\"softmax\"))\n",
        "\n",
        "# printing model summary\n",
        "model.summary()\n",
        "\n",
        "# Compiling the model \n",
        "model.compile(loss=\"sparse_categorical_crossentropy\", optimizer=\"adam\", metrics=[\"accuracy\"])"
      ],
      "execution_count": 4,
      "outputs": [
        {
          "output_type": "stream",
          "text": [
            "Model: \"sequential\"\n",
            "_________________________________________________________________\n",
            "Layer (type)                 Output Shape              Param #   \n",
            "=================================================================\n",
            "conv2d (Conv2D)              (None, 32, 32, 32)        896       \n",
            "_________________________________________________________________\n",
            "batch_normalization (BatchNo (None, 32, 32, 32)        128       \n",
            "_________________________________________________________________\n",
            "conv2d_1 (Conv2D)            (None, 32, 32, 32)        9248      \n",
            "_________________________________________________________________\n",
            "batch_normalization_1 (Batch (None, 32, 32, 32)        128       \n",
            "_________________________________________________________________\n",
            "max_pooling2d (MaxPooling2D) (None, 16, 16, 32)        0         \n",
            "_________________________________________________________________\n",
            "dropout (Dropout)            (None, 16, 16, 32)        0         \n",
            "_________________________________________________________________\n",
            "conv2d_2 (Conv2D)            (None, 16, 16, 64)        18496     \n",
            "_________________________________________________________________\n",
            "batch_normalization_2 (Batch (None, 16, 16, 64)        256       \n",
            "_________________________________________________________________\n",
            "conv2d_3 (Conv2D)            (None, 16, 16, 64)        36928     \n",
            "_________________________________________________________________\n",
            "batch_normalization_3 (Batch (None, 16, 16, 64)        256       \n",
            "_________________________________________________________________\n",
            "max_pooling2d_1 (MaxPooling2 (None, 8, 8, 64)          0         \n",
            "_________________________________________________________________\n",
            "dropout_1 (Dropout)          (None, 8, 8, 64)          0         \n",
            "_________________________________________________________________\n",
            "flatten (Flatten)            (None, 4096)              0         \n",
            "_________________________________________________________________\n",
            "dense (Dense)                (None, 512)               2097664   \n",
            "_________________________________________________________________\n",
            "batch_normalization_4 (Batch (None, 512)               2048      \n",
            "_________________________________________________________________\n",
            "dropout_2 (Dropout)          (None, 512)               0         \n",
            "_________________________________________________________________\n",
            "dense_1 (Dense)              (None, 10)                5130      \n",
            "=================================================================\n",
            "Total params: 2,171,178\n",
            "Trainable params: 2,169,770\n",
            "Non-trainable params: 1,408\n",
            "_________________________________________________________________\n"
          ],
          "name": "stdout"
        }
      ]
    },
    {
      "cell_type": "code",
      "metadata": {
        "colab": {
          "base_uri": "https://localhost:8080/"
        },
        "id": "T1JX59wSF-Lv",
        "outputId": "a73c23f1-8bd2-43c6-9df9-726c890a66d7"
      },
      "source": [
        "# Training the model \n",
        "history = model.fit(x_train_scaled, y_train, batch_size=64, epochs=40, validation_data=(x_test_scaled, y_test), verbose=2)"
      ],
      "execution_count": 6,
      "outputs": [
        {
          "output_type": "stream",
          "text": [
            "Epoch 1/40\n",
            "782/782 - 20s - loss: 1.4748 - accuracy: 0.5088 - val_loss: 1.0989 - val_accuracy: 0.6155\n",
            "Epoch 2/40\n",
            "782/782 - 4s - loss: 0.9532 - accuracy: 0.6642 - val_loss: 3.6966 - val_accuracy: 0.2994\n",
            "Epoch 3/40\n",
            "782/782 - 4s - loss: 0.8142 - accuracy: 0.7133 - val_loss: 1.0699 - val_accuracy: 0.6588\n",
            "Epoch 4/40\n",
            "782/782 - 4s - loss: 0.7352 - accuracy: 0.7435 - val_loss: 0.6923 - val_accuracy: 0.7580\n",
            "Epoch 5/40\n",
            "782/782 - 4s - loss: 0.6651 - accuracy: 0.7642 - val_loss: 0.6709 - val_accuracy: 0.7713\n",
            "Epoch 6/40\n",
            "782/782 - 4s - loss: 0.6095 - accuracy: 0.7856 - val_loss: 0.7959 - val_accuracy: 0.7364\n",
            "Epoch 7/40\n",
            "782/782 - 4s - loss: 0.5581 - accuracy: 0.8040 - val_loss: 0.5927 - val_accuracy: 0.7970\n",
            "Epoch 8/40\n",
            "782/782 - 4s - loss: 0.5189 - accuracy: 0.8168 - val_loss: 0.6359 - val_accuracy: 0.7847\n",
            "Epoch 9/40\n",
            "782/782 - 4s - loss: 0.4788 - accuracy: 0.8311 - val_loss: 0.5534 - val_accuracy: 0.8137\n",
            "Epoch 10/40\n",
            "782/782 - 4s - loss: 0.4419 - accuracy: 0.8447 - val_loss: 0.6788 - val_accuracy: 0.7834\n",
            "Epoch 11/40\n",
            "782/782 - 4s - loss: 0.4076 - accuracy: 0.8566 - val_loss: 0.6475 - val_accuracy: 0.7919\n",
            "Epoch 12/40\n",
            "782/782 - 4s - loss: 0.3912 - accuracy: 0.8626 - val_loss: 0.6400 - val_accuracy: 0.7905\n",
            "Epoch 13/40\n",
            "782/782 - 4s - loss: 0.3676 - accuracy: 0.8695 - val_loss: 0.5595 - val_accuracy: 0.8173\n",
            "Epoch 14/40\n",
            "782/782 - 4s - loss: 0.3337 - accuracy: 0.8804 - val_loss: 0.6950 - val_accuracy: 0.7885\n",
            "Epoch 15/40\n",
            "782/782 - 4s - loss: 0.3138 - accuracy: 0.8882 - val_loss: 0.6289 - val_accuracy: 0.8036\n",
            "Epoch 16/40\n",
            "782/782 - 4s - loss: 0.3163 - accuracy: 0.8884 - val_loss: 0.5864 - val_accuracy: 0.8213\n",
            "Epoch 17/40\n",
            "782/782 - 4s - loss: 0.2875 - accuracy: 0.8976 - val_loss: 0.5803 - val_accuracy: 0.8184\n",
            "Epoch 18/40\n",
            "782/782 - 4s - loss: 0.2745 - accuracy: 0.9024 - val_loss: 0.6515 - val_accuracy: 0.8099\n",
            "Epoch 19/40\n",
            "782/782 - 4s - loss: 0.2605 - accuracy: 0.9081 - val_loss: 0.6302 - val_accuracy: 0.8155\n",
            "Epoch 20/40\n",
            "782/782 - 4s - loss: 0.2476 - accuracy: 0.9112 - val_loss: 0.5855 - val_accuracy: 0.8273\n",
            "Epoch 21/40\n",
            "782/782 - 4s - loss: 0.2432 - accuracy: 0.9142 - val_loss: 0.6192 - val_accuracy: 0.8196\n",
            "Epoch 22/40\n",
            "782/782 - 4s - loss: 0.2368 - accuracy: 0.9165 - val_loss: 0.6565 - val_accuracy: 0.8243\n",
            "Epoch 23/40\n",
            "782/782 - 4s - loss: 0.2182 - accuracy: 0.9230 - val_loss: 0.5994 - val_accuracy: 0.8281\n",
            "Epoch 24/40\n",
            "782/782 - 4s - loss: 0.2184 - accuracy: 0.9231 - val_loss: 0.6279 - val_accuracy: 0.8204\n",
            "Epoch 25/40\n",
            "782/782 - 4s - loss: 0.2067 - accuracy: 0.9278 - val_loss: 0.5764 - val_accuracy: 0.8358\n",
            "Epoch 26/40\n",
            "782/782 - 4s - loss: 0.1998 - accuracy: 0.9291 - val_loss: 0.5831 - val_accuracy: 0.8359\n",
            "Epoch 27/40\n",
            "782/782 - 4s - loss: 0.1929 - accuracy: 0.9316 - val_loss: 0.6074 - val_accuracy: 0.8339\n",
            "Epoch 28/40\n",
            "782/782 - 4s - loss: 0.1918 - accuracy: 0.9311 - val_loss: 0.6144 - val_accuracy: 0.8290\n",
            "Epoch 29/40\n",
            "782/782 - 4s - loss: 0.1897 - accuracy: 0.9332 - val_loss: 0.5774 - val_accuracy: 0.8377\n",
            "Epoch 30/40\n",
            "782/782 - 4s - loss: 0.1908 - accuracy: 0.9328 - val_loss: 0.6057 - val_accuracy: 0.8367\n",
            "Epoch 31/40\n",
            "782/782 - 4s - loss: 0.1724 - accuracy: 0.9394 - val_loss: 0.6022 - val_accuracy: 0.8353\n",
            "Epoch 32/40\n",
            "782/782 - 4s - loss: 0.1679 - accuracy: 0.9412 - val_loss: 0.6457 - val_accuracy: 0.8297\n",
            "Epoch 33/40\n",
            "782/782 - 4s - loss: 0.1659 - accuracy: 0.9401 - val_loss: 0.7429 - val_accuracy: 0.8173\n",
            "Epoch 34/40\n",
            "782/782 - 4s - loss: 0.1665 - accuracy: 0.9422 - val_loss: 0.6386 - val_accuracy: 0.8347\n",
            "Epoch 35/40\n",
            "782/782 - 4s - loss: 0.1641 - accuracy: 0.9411 - val_loss: 0.6328 - val_accuracy: 0.8298\n",
            "Epoch 36/40\n",
            "782/782 - 4s - loss: 0.1527 - accuracy: 0.9462 - val_loss: 0.6865 - val_accuracy: 0.8236\n",
            "Epoch 37/40\n",
            "782/782 - 4s - loss: 0.1524 - accuracy: 0.9456 - val_loss: 0.6909 - val_accuracy: 0.8270\n",
            "Epoch 38/40\n",
            "782/782 - 4s - loss: 0.1472 - accuracy: 0.9484 - val_loss: 0.7240 - val_accuracy: 0.8218\n",
            "Epoch 39/40\n",
            "782/782 - 4s - loss: 0.1456 - accuracy: 0.9484 - val_loss: 0.6283 - val_accuracy: 0.8368\n",
            "Epoch 40/40\n",
            "782/782 - 4s - loss: 0.1409 - accuracy: 0.9503 - val_loss: 0.6493 - val_accuracy: 0.8256\n"
          ],
          "name": "stdout"
        }
      ]
    },
    {
      "cell_type": "code",
      "metadata": {
        "id": "tChTuxzcGUcA",
        "colab": {
          "base_uri": "https://localhost:8080/",
          "height": 299
        },
        "outputId": "3f1a63ee-0d41-433c-a70d-1bce7aef8ded"
      },
      "source": [
        "# plotting loss and accuracy values \n",
        "num_epochs=40\n",
        "plt.style.use('ggplot')\n",
        "plt.figure()\n",
        "plt.plot(np.arange(num_epochs), history.history[\"loss\"], label=\"train_loss\")\n",
        "plt.plot(np.arange(num_epochs), history.history[\"val_loss\"], label=\"val_loss\")\n",
        "plt.plot(np.arange(num_epochs), history.history[\"accuracy\"], label=\"train_acc\")\n",
        "plt.plot(np.arange(num_epochs), history.history[\"val_accuracy\"], label=\"val_acc\")\n",
        "plt.title(\"Accuracy and Loss Curves\")\n",
        "plt.xlabel(\"Epoch #\")\n",
        "plt.ylabel(\"Accuracy/Loss\")\n",
        "plt.legend()\n",
        "plt.show()\n"
      ],
      "execution_count": 7,
      "outputs": [
        {
          "output_type": "display_data",
          "data": {
            "image/png": "[encoded data removed]",
            "text/plain": [
              "<Figure size 432x288 with 1 Axes>"
            ]
          },
          "metadata": {
            "tags": []
          }
        }
      ]
    }
  ]
}