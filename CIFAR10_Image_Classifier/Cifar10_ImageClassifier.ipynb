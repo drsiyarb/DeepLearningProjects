{
  "nbformat": 4,
  "nbformat_minor": 0,
  "metadata": {
    "accelerator": "GPU",
    "colab": {
      "name": "Cifar10_ImageClassifier.ipynb",
      "provenance": [],
      "collapsed_sections": [],
      "toc_visible": true,
      "authorship_tag": "ABX9TyNNegWSSsVbWmMxjwzzlBbV",
      "include_colab_link": true
    },
    "kernelspec": {
      "display_name": "Python 3",
      "name": "python3"
    }
  },
  "cells": [
    {
      "cell_type": "markdown",
      "metadata": {
        "id": "view-in-github",
        "colab_type": "text"
      },
      "source": [
        "<a href=\"https://colab.research.google.com/github/vasugupta9/DeepLearningProjects/blob/main/CIFAR10_Image_Classifier/Cifar10_ImageClassifier.ipynb\" target=\"_parent\"><img src=\"https://colab.research.google.com/assets/colab-badge.svg\" alt=\"Open In Colab\"/></a>"
      ]
    },
    {
      "cell_type": "code",
      "metadata": {
        "id": "MjzPfXdR50ff"
      },
      "source": [
        "# importing required libraries\n",
        "import numpy as np\n",
        "import matplotlib.pyplot as plt \n",
        "from tensorflow.keras.datasets import cifar10\n",
        "from tensorflow.keras.models import Sequential\n",
        "from tensorflow.keras.layers import Conv2D, Dense, Flatten, MaxPooling2D, BatchNormalization, Dropout"
      ],
      "execution_count": 2,
      "outputs": []
    },
    {
      "cell_type": "code",
      "metadata": {
        "colab": {
          "base_uri": "https://localhost:8080/"
        },
        "id": "xwJrg32a7itw",
        "outputId": "60800b12-669c-4e20-85c4-331ef8701aba"
      },
      "source": [
        "# Loading the cifar-10 dataset \n",
        "# cifar10 is a dataset of 50,000 32x32 color training images and 10,000 test images, labeled over 10 categories. \n",
        "(x_train, y_train), (x_test, y_test) = cifar10.load_data()\n",
        "print(x_train.shape, y_train.shape)\n",
        "print(x_test.shape, y_test.shape)\n",
        "print(np.min(x_train), np.max(x_train)) # to check if scaling to the range 0-1 is needed\n",
        "print(np.min(y_train), np.max(y_train))"
      ],
      "execution_count": 3,
      "outputs": [
        {
          "output_type": "stream",
          "text": [
            "Downloading data from https://www.cs.toronto.edu/~kriz/cifar-10-python.tar.gz\n",
            "170500096/170498071 [==============================] - 2s 0us/step\n",
            "(50000, 32, 32, 3) (50000, 1)\n",
            "(10000, 32, 32, 3) (10000, 1)\n",
            "0 255\n",
            "0 9\n"
          ],
          "name": "stdout"
        }
      ]
    },
    {
      "cell_type": "code",
      "metadata": {
        "id": "CL2-Mc0TE_he"
      },
      "source": [
        "# scaling x_train and x_test values to the range 0-1\n",
        "x_train_scaled = x_train/255.\n",
        "x_test_scaled  = x_test/255.\n",
        "# y_train, y_test values are already labelled as integers from 0 to 9 , so no preprocessing required"
      ],
      "execution_count": 4,
      "outputs": []
    },
    {
      "cell_type": "code",
      "metadata": {
        "colab": {
          "base_uri": "https://localhost:8080/"
        },
        "id": "b2A2O8cjFhbE",
        "outputId": "a8f1bb9a-d01e-4381-91a7-d8898072b409"
      },
      "source": [
        "# Defining the CNN architecture using keras Sequential API (a minified version of VGGNet)\n",
        "model = Sequential()\n",
        "model.add(Conv2D(32, kernel_size=(3,3), padding=\"same\", activation=\"relu\", input_shape=(32,32,3)))\n",
        "model.add(BatchNormalization())\n",
        "model.add(Conv2D(32, kernel_size=(3,3), padding=\"same\", activation=\"relu\"))\n",
        "model.add(BatchNormalization())\n",
        "model.add(MaxPooling2D(pool_size=(2,2),  strides=(2,2)))\n",
        "model.add(Dropout(0.25))\n",
        "model.add(Conv2D(64, kernel_size=(3,3), padding=\"same\", activation=\"relu\"))\n",
        "model.add(BatchNormalization())\n",
        "model.add(Conv2D(64, kernel_size=(3,3), padding=\"same\", activation=\"relu\"))\n",
        "model.add(BatchNormalization())\n",
        "model.add(MaxPooling2D(pool_size=(2,2),  strides=(2,2)))\n",
        "model.add(Dropout(0.25))\n",
        "model.add(Flatten())\n",
        "model.add(Dense(512, activation=\"relu\"))\n",
        "model.add(BatchNormalization())\n",
        "model.add(Dropout(0.5))\n",
        "model.add(Dense(10, activation=\"softmax\"))\n",
        "\n",
        "# printing model summary\n",
        "model.summary()\n",
        "\n",
        "# Compiling the model \n",
        "model.compile(loss=\"sparse_categorical_crossentropy\", optimizer=\"adam\", metrics=[\"accuracy\"])"
      ],
      "execution_count": 5,
      "outputs": [
        {
          "output_type": "stream",
          "text": [
            "Model: \"sequential\"\n",
            "_________________________________________________________________\n",
            "Layer (type)                 Output Shape              Param #   \n",
            "=================================================================\n",
            "conv2d (Conv2D)              (None, 32, 32, 32)        896       \n",
            "_________________________________________________________________\n",
            "batch_normalization (BatchNo (None, 32, 32, 32)        128       \n",
            "_________________________________________________________________\n",
            "conv2d_1 (Conv2D)            (None, 32, 32, 32)        9248      \n",
            "_________________________________________________________________\n",
            "batch_normalization_1 (Batch (None, 32, 32, 32)        128       \n",
            "_________________________________________________________________\n",
            "max_pooling2d (MaxPooling2D) (None, 16, 16, 32)        0         \n",
            "_________________________________________________________________\n",
            "dropout (Dropout)            (None, 16, 16, 32)        0         \n",
            "_________________________________________________________________\n",
            "conv2d_2 (Conv2D)            (None, 16, 16, 64)        18496     \n",
            "_________________________________________________________________\n",
            "batch_normalization_2 (Batch (None, 16, 16, 64)        256       \n",
            "_________________________________________________________________\n",
            "conv2d_3 (Conv2D)            (None, 16, 16, 64)        36928     \n",
            "_________________________________________________________________\n",
            "batch_normalization_3 (Batch (None, 16, 16, 64)        256       \n",
            "_________________________________________________________________\n",
            "max_pooling2d_1 (MaxPooling2 (None, 8, 8, 64)          0         \n",
            "_________________________________________________________________\n",
            "dropout_1 (Dropout)          (None, 8, 8, 64)          0         \n",
            "_________________________________________________________________\n",
            "flatten (Flatten)            (None, 4096)              0         \n",
            "_________________________________________________________________\n",
            "dense (Dense)                (None, 512)               2097664   \n",
            "_________________________________________________________________\n",
            "batch_normalization_4 (Batch (None, 512)               2048      \n",
            "_________________________________________________________________\n",
            "dropout_2 (Dropout)          (None, 512)               0         \n",
            "_________________________________________________________________\n",
            "dense_1 (Dense)              (None, 10)                5130      \n",
            "=================================================================\n",
            "Total params: 2,171,178\n",
            "Trainable params: 2,169,770\n",
            "Non-trainable params: 1,408\n",
            "_________________________________________________________________\n"
          ],
          "name": "stdout"
        }
      ]
    },
    {
      "cell_type": "code",
      "metadata": {
        "colab": {
          "base_uri": "https://localhost:8080/"
        },
        "id": "T1JX59wSF-Lv",
        "outputId": "c9f32b84-c7c5-455c-abd6-92086761a4c6"
      },
      "source": [
        "# Training the model \n",
        "history = model.fit(x_train, y_train, batch_size=64, epochs=40, validation_data=(x_test, y_test), verbose=2)"
      ],
      "execution_count": 6,
      "outputs": [
        {
          "output_type": "stream",
          "text": [
            "Epoch 1/40\n",
            "782/782 - 6s - loss: 1.5168 - accuracy: 0.4918 - val_loss: 1.2782 - val_accuracy: 0.5657\n",
            "Epoch 2/40\n",
            "782/782 - 6s - loss: 0.9808 - accuracy: 0.6544 - val_loss: 0.8555 - val_accuracy: 0.6985\n",
            "Epoch 3/40\n",
            "782/782 - 6s - loss: 0.8466 - accuracy: 0.7016 - val_loss: 1.1482 - val_accuracy: 0.6198\n",
            "Epoch 4/40\n",
            "782/782 - 6s - loss: 0.7668 - accuracy: 0.7306 - val_loss: 0.7082 - val_accuracy: 0.7515\n",
            "Epoch 5/40\n",
            "782/782 - 6s - loss: 0.6940 - accuracy: 0.7574 - val_loss: 0.6670 - val_accuracy: 0.7689\n",
            "Epoch 6/40\n",
            "782/782 - 6s - loss: 0.6279 - accuracy: 0.7771 - val_loss: 0.7228 - val_accuracy: 0.7558\n",
            "Epoch 7/40\n",
            "782/782 - 6s - loss: 0.5745 - accuracy: 0.7981 - val_loss: 0.6761 - val_accuracy: 0.7703\n",
            "Epoch 8/40\n",
            "782/782 - 6s - loss: 0.5242 - accuracy: 0.8166 - val_loss: 0.6469 - val_accuracy: 0.7828\n",
            "Epoch 9/40\n",
            "782/782 - 6s - loss: 0.4922 - accuracy: 0.8250 - val_loss: 0.5883 - val_accuracy: 0.7990\n",
            "Epoch 10/40\n",
            "782/782 - 6s - loss: 0.4538 - accuracy: 0.8406 - val_loss: 0.5942 - val_accuracy: 0.8022\n",
            "Epoch 11/40\n",
            "782/782 - 6s - loss: 0.4149 - accuracy: 0.8541 - val_loss: 0.6377 - val_accuracy: 0.7958\n",
            "Epoch 12/40\n",
            "782/782 - 6s - loss: 0.3959 - accuracy: 0.8606 - val_loss: 0.5604 - val_accuracy: 0.8122\n",
            "Epoch 13/40\n",
            "782/782 - 6s - loss: 0.3722 - accuracy: 0.8672 - val_loss: 0.6062 - val_accuracy: 0.8039\n",
            "Epoch 14/40\n",
            "782/782 - 6s - loss: 0.3371 - accuracy: 0.8805 - val_loss: 0.5786 - val_accuracy: 0.8156\n",
            "Epoch 15/40\n",
            "782/782 - 6s - loss: 0.3328 - accuracy: 0.8820 - val_loss: 0.6197 - val_accuracy: 0.8063\n",
            "Epoch 16/40\n",
            "782/782 - 6s - loss: 0.3062 - accuracy: 0.8904 - val_loss: 0.5737 - val_accuracy: 0.8158\n",
            "Epoch 17/40\n",
            "782/782 - 6s - loss: 0.2918 - accuracy: 0.8960 - val_loss: 0.6363 - val_accuracy: 0.8020\n",
            "Epoch 18/40\n",
            "782/782 - 6s - loss: 0.2773 - accuracy: 0.9011 - val_loss: 0.5997 - val_accuracy: 0.8227\n",
            "Epoch 19/40\n",
            "782/782 - 6s - loss: 0.2656 - accuracy: 0.9069 - val_loss: 0.6259 - val_accuracy: 0.8101\n",
            "Epoch 20/40\n",
            "782/782 - 6s - loss: 0.2562 - accuracy: 0.9085 - val_loss: 0.6070 - val_accuracy: 0.8219\n",
            "Epoch 21/40\n",
            "782/782 - 6s - loss: 0.2396 - accuracy: 0.9147 - val_loss: 0.5825 - val_accuracy: 0.8241\n",
            "Epoch 22/40\n",
            "782/782 - 6s - loss: 0.2295 - accuracy: 0.9196 - val_loss: 0.6076 - val_accuracy: 0.8242\n",
            "Epoch 23/40\n",
            "782/782 - 6s - loss: 0.2314 - accuracy: 0.9173 - val_loss: 0.6624 - val_accuracy: 0.8186\n",
            "Epoch 24/40\n",
            "782/782 - 6s - loss: 0.2158 - accuracy: 0.9240 - val_loss: 0.6182 - val_accuracy: 0.8218\n",
            "Epoch 25/40\n",
            "782/782 - 6s - loss: 0.2151 - accuracy: 0.9236 - val_loss: 0.5837 - val_accuracy: 0.8318\n",
            "Epoch 26/40\n",
            "782/782 - 6s - loss: 0.2026 - accuracy: 0.9279 - val_loss: 0.6302 - val_accuracy: 0.8215\n",
            "Epoch 27/40\n",
            "782/782 - 6s - loss: 0.2021 - accuracy: 0.9286 - val_loss: 0.6375 - val_accuracy: 0.8192\n",
            "Epoch 28/40\n",
            "782/782 - 6s - loss: 0.1996 - accuracy: 0.9295 - val_loss: 0.6786 - val_accuracy: 0.8036\n",
            "Epoch 29/40\n",
            "782/782 - 6s - loss: 0.1846 - accuracy: 0.9354 - val_loss: 0.6553 - val_accuracy: 0.8214\n",
            "Epoch 30/40\n",
            "782/782 - 6s - loss: 0.1841 - accuracy: 0.9359 - val_loss: 0.6009 - val_accuracy: 0.8308\n",
            "Epoch 31/40\n",
            "782/782 - 6s - loss: 0.1906 - accuracy: 0.9331 - val_loss: 0.6199 - val_accuracy: 0.8279\n",
            "Epoch 32/40\n",
            "782/782 - 6s - loss: 0.1840 - accuracy: 0.9353 - val_loss: 0.5880 - val_accuracy: 0.8332\n",
            "Epoch 33/40\n",
            "782/782 - 6s - loss: 0.1642 - accuracy: 0.9409 - val_loss: 0.6949 - val_accuracy: 0.8058\n",
            "Epoch 34/40\n",
            "782/782 - 6s - loss: 0.1647 - accuracy: 0.9416 - val_loss: 0.6162 - val_accuracy: 0.8366\n",
            "Epoch 35/40\n",
            "782/782 - 6s - loss: 0.1624 - accuracy: 0.9418 - val_loss: 0.6044 - val_accuracy: 0.8340\n",
            "Epoch 36/40\n",
            "782/782 - 6s - loss: 0.1608 - accuracy: 0.9430 - val_loss: 0.6189 - val_accuracy: 0.8325\n",
            "Epoch 37/40\n",
            "782/782 - 6s - loss: 0.1541 - accuracy: 0.9457 - val_loss: 0.6695 - val_accuracy: 0.8251\n",
            "Epoch 38/40\n",
            "782/782 - 6s - loss: 0.1490 - accuracy: 0.9472 - val_loss: 0.6695 - val_accuracy: 0.8298\n",
            "Epoch 39/40\n",
            "782/782 - 6s - loss: 0.1461 - accuracy: 0.9479 - val_loss: 0.6223 - val_accuracy: 0.8323\n",
            "Epoch 40/40\n",
            "782/782 - 6s - loss: 0.1479 - accuracy: 0.9473 - val_loss: 0.6589 - val_accuracy: 0.8331\n"
          ],
          "name": "stdout"
        }
      ]
    },
    {
      "cell_type": "code",
      "metadata": {
        "id": "tChTuxzcGUcA",
        "colab": {
          "base_uri": "https://localhost:8080/",
          "height": 299
        },
        "outputId": "ae7eae27-3a3a-4a1a-c779-00af77df55b3"
      },
      "source": [
        "# plotting loss and accuracy values \n",
        "num_epochs=40\n",
        "plt.style.use('ggplot')\n",
        "plt.figure()\n",
        "#plt.plot(np.arange(num_epochs), history.history[\"loss\"], label=\"train_loss\")\n",
        "#plt.plot(np.arange(num_epochs), history.history[\"val_loss\"], label=\"val_loss\")\n",
        "plt.plot(np.arange(num_epochs), history.history[\"accuracy\"], label=\"train_acc\")\n",
        "plt.plot(np.arange(num_epochs), history.history[\"val_accuracy\"], label=\"val_acc\")\n",
        "plt.title(\"Accuracy and Loss Curves\")\n",
        "plt.xlabel(\"Epoch #\")\n",
        "plt.ylabel(\"Accuracy/Loss\")\n",
        "plt.legend()\n",
        "plt.show()\n"
      ],
      "execution_count": 7,
      "outputs": [
        {
          "output_type": "display_data",
          "data": {
            "image/png": "[encoded data removed]",
            "text/plain": [
              "<Figure size 432x288 with 1 Axes>"
            ]
          },
          "metadata": {
            "tags": []
          }
        }
      ]
    }
  ]
}