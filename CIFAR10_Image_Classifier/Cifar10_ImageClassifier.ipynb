{
  "nbformat": 4,
  "nbformat_minor": 0,
  "metadata": {
    "accelerator": "GPU",
    "colab": {
      "name": "Cifar10_ImageClassifier.ipynb",
      "provenance": [],
      "collapsed_sections": [],
      "authorship_tag": "ABX9TyOhlss8pdP0KMkD7JIBvfQl",
      "include_colab_link": true
    },
    "kernelspec": {
      "display_name": "Python 3",
      "name": "python3"
    }
  },
  "cells": [
    {
      "cell_type": "markdown",
      "metadata": {
        "id": "view-in-github",
        "colab_type": "text"
      },
      "source": [
        "<a href=\"https://colab.research.google.com/github/vasugupta9/DeepLearningProjects/blob/main/CIFAR10_Image_Classifier/Cifar10_ImageClassifier.ipynb\" target=\"_parent\"><img src=\"https://colab.research.google.com/assets/colab-badge.svg\" alt=\"Open In Colab\"/></a>"
      ]
    },
    {
      "cell_type": "code",
      "metadata": {
        "id": "MjzPfXdR50ff"
      },
      "source": [
        "# importing required libraries\n",
        "import numpy as np\n",
        "import matplotlib.pyplot as plt \n",
        "from tensorflow.keras.datasets import cifar10\n",
        "from tensorflow.keras.models import Sequential\n",
        "from tensorflow.keras.layers import Conv2D, Dense, Flatten"
      ],
      "execution_count": 1,
      "outputs": []
    },
    {
      "cell_type": "code",
      "metadata": {
        "colab": {
          "base_uri": "https://localhost:8080/"
        },
        "id": "xwJrg32a7itw",
        "outputId": "0e1c564f-b1fc-4865-dc4d-e0a450ad0991"
      },
      "source": [
        "# Loading the cifar-10 dataset \n",
        "# cifar10 is a dataset of 50,000 32x32 color training images and 10,000 test images, labeled over 10 categories. \n",
        "(x_train, y_train), (x_test, y_test) = cifar10.load_data()\n",
        "print(x_train.shape, y_train.shape)\n",
        "print(x_test.shape, y_test.shape)\n",
        "print(np.min(x_train), np.max(x_train)) # to check if scaling to the range 0-1 is needed\n",
        "print(np.min(y_train), np.max(y_train))"
      ],
      "execution_count": 2,
      "outputs": [
        {
          "output_type": "stream",
          "text": [
            "Downloading data from https://www.cs.toronto.edu/~kriz/cifar-10-python.tar.gz\n",
            "170500096/170498071 [==============================] - 11s 0us/step\n",
            "(50000, 32, 32, 3) (50000, 1)\n",
            "(10000, 32, 32, 3) (10000, 1)\n",
            "0 255\n",
            "0 9\n"
          ],
          "name": "stdout"
        }
      ]
    },
    {
      "cell_type": "code",
      "metadata": {
        "id": "CL2-Mc0TE_he"
      },
      "source": [
        "# scaling x_train and x_test values to the range 0-1\n",
        "x_train_scaled = x_train/255.\n",
        "x_test_scaled  = x_test/255.\n",
        "# y_train, y_test values are already labelled as integers from 0 to 9 , so no preprocessing required"
      ],
      "execution_count": 3,
      "outputs": []
    },
    {
      "cell_type": "code",
      "metadata": {
        "colab": {
          "base_uri": "https://localhost:8080/"
        },
        "id": "b2A2O8cjFhbE",
        "outputId": "24d7c3fe-6b3d-494b-c19f-9b94c7131ea8"
      },
      "source": [
        "# Defining the CNN architecture using keras Sequential API\n",
        "model = Sequential()\n",
        "model.add(Conv2D(64, kernel_size=(3,3), padding=\"same\", activation=\"relu\", input_shape=(32,32,3)))\n",
        "model.add(Flatten())\n",
        "model.add(Dense(10, activation=\"softmax\"))\n",
        "\n",
        "# printing model summary\n",
        "model.summary()\n",
        "\n",
        "# Compiling the model \n",
        "model.compile(loss=\"sparse_categorical_crossentropy\", optimizer=\"adam\", metrics=[\"accuracy\"])"
      ],
      "execution_count": 4,
      "outputs": [
        {
          "output_type": "stream",
          "text": [
            "Model: \"sequential\"\n",
            "_________________________________________________________________\n",
            "Layer (type)                 Output Shape              Param #   \n",
            "=================================================================\n",
            "conv2d (Conv2D)              (None, 32, 32, 64)        1792      \n",
            "_________________________________________________________________\n",
            "flatten (Flatten)            (None, 65536)             0         \n",
            "_________________________________________________________________\n",
            "dense (Dense)                (None, 10)                655370    \n",
            "=================================================================\n",
            "Total params: 657,162\n",
            "Trainable params: 657,162\n",
            "Non-trainable params: 0\n",
            "_________________________________________________________________\n"
          ],
          "name": "stdout"
        }
      ]
    },
    {
      "cell_type": "code",
      "metadata": {
        "colab": {
          "base_uri": "https://localhost:8080/"
        },
        "id": "T1JX59wSF-Lv",
        "outputId": "ca1f9adb-bdfa-4be0-c16b-bda241ef3c41"
      },
      "source": [
        "# Training the model \n",
        "history = model.fit(x_train, y_train, batch_size=32, epochs=50, validation_data=(x_test, y_test), verbose=2)"
      ],
      "execution_count": 5,
      "outputs": [
        {
          "output_type": "stream",
          "text": [
            "Epoch 1/50\n",
            "1563/1563 - 8s - loss: 12.0093 - accuracy: 0.3393 - val_loss: 1.8081 - val_accuracy: 0.3804\n",
            "Epoch 2/50\n",
            "1563/1563 - 8s - loss: 1.6351 - accuracy: 0.4400 - val_loss: 1.7861 - val_accuracy: 0.4023\n",
            "Epoch 3/50\n",
            "1563/1563 - 8s - loss: 1.4936 - accuracy: 0.4915 - val_loss: 2.0170 - val_accuracy: 0.3752\n",
            "Epoch 4/50\n",
            "1563/1563 - 8s - loss: 1.4132 - accuracy: 0.5191 - val_loss: 2.1124 - val_accuracy: 0.3759\n",
            "Epoch 5/50\n",
            "1563/1563 - 8s - loss: 1.3558 - accuracy: 0.5392 - val_loss: 2.5874 - val_accuracy: 0.3663\n",
            "Epoch 6/50\n",
            "1563/1563 - 8s - loss: 1.3224 - accuracy: 0.5498 - val_loss: 2.5037 - val_accuracy: 0.3621\n",
            "Epoch 7/50\n",
            "1563/1563 - 8s - loss: 1.2705 - accuracy: 0.5671 - val_loss: 2.9133 - val_accuracy: 0.3172\n",
            "Epoch 8/50\n",
            "1563/1563 - 8s - loss: 1.2145 - accuracy: 0.5874 - val_loss: 3.1044 - val_accuracy: 0.3588\n",
            "Epoch 9/50\n",
            "1563/1563 - 9s - loss: 1.1560 - accuracy: 0.6068 - val_loss: 3.6355 - val_accuracy: 0.3576\n",
            "Epoch 10/50\n",
            "1563/1563 - 8s - loss: 1.0775 - accuracy: 0.6319 - val_loss: 3.8478 - val_accuracy: 0.3579\n",
            "Epoch 11/50\n",
            "1563/1563 - 8s - loss: 1.0128 - accuracy: 0.6553 - val_loss: 4.2559 - val_accuracy: 0.3696\n",
            "Epoch 12/50\n",
            "1563/1563 - 8s - loss: 0.9537 - accuracy: 0.6765 - val_loss: 4.4291 - val_accuracy: 0.3673\n",
            "Epoch 13/50\n",
            "1563/1563 - 8s - loss: 0.9150 - accuracy: 0.6913 - val_loss: 5.1374 - val_accuracy: 0.3491\n",
            "Epoch 14/50\n",
            "1563/1563 - 8s - loss: 0.8542 - accuracy: 0.7113 - val_loss: 5.5068 - val_accuracy: 0.3667\n",
            "Epoch 15/50\n",
            "1563/1563 - 8s - loss: 0.8398 - accuracy: 0.7207 - val_loss: 6.6242 - val_accuracy: 0.3500\n",
            "Epoch 16/50\n",
            "1563/1563 - 8s - loss: 0.8263 - accuracy: 0.7257 - val_loss: 6.3175 - val_accuracy: 0.3560\n",
            "Epoch 17/50\n",
            "1563/1563 - 8s - loss: 0.7609 - accuracy: 0.7422 - val_loss: 6.7461 - val_accuracy: 0.3484\n",
            "Epoch 18/50\n",
            "1563/1563 - 8s - loss: 0.7343 - accuracy: 0.7563 - val_loss: 7.3830 - val_accuracy: 0.3484\n",
            "Epoch 19/50\n",
            "1563/1563 - 8s - loss: 0.6963 - accuracy: 0.7661 - val_loss: 7.5701 - val_accuracy: 0.3519\n",
            "Epoch 20/50\n",
            "1563/1563 - 8s - loss: 0.6741 - accuracy: 0.7750 - val_loss: 8.4396 - val_accuracy: 0.3449\n",
            "Epoch 21/50\n",
            "1563/1563 - 8s - loss: 0.6920 - accuracy: 0.7768 - val_loss: 8.5875 - val_accuracy: 0.3412\n",
            "Epoch 22/50\n",
            "1563/1563 - 8s - loss: 0.6361 - accuracy: 0.7902 - val_loss: 9.5256 - val_accuracy: 0.3397\n",
            "Epoch 23/50\n",
            "1563/1563 - 8s - loss: 0.6498 - accuracy: 0.7908 - val_loss: 10.1390 - val_accuracy: 0.3347\n",
            "Epoch 24/50\n",
            "1563/1563 - 8s - loss: 0.6405 - accuracy: 0.7958 - val_loss: 10.3569 - val_accuracy: 0.3634\n",
            "Epoch 25/50\n",
            "1563/1563 - 8s - loss: 0.6244 - accuracy: 0.7994 - val_loss: 10.3045 - val_accuracy: 0.3391\n",
            "Epoch 26/50\n",
            "1563/1563 - 8s - loss: 0.6129 - accuracy: 0.8031 - val_loss: 11.7524 - val_accuracy: 0.3576\n",
            "Epoch 27/50\n",
            "1563/1563 - 8s - loss: 0.5843 - accuracy: 0.8094 - val_loss: 12.0431 - val_accuracy: 0.3555\n",
            "Epoch 28/50\n",
            "1563/1563 - 8s - loss: 0.6033 - accuracy: 0.8156 - val_loss: 11.9053 - val_accuracy: 0.3458\n",
            "Epoch 29/50\n",
            "1563/1563 - 8s - loss: 0.5976 - accuracy: 0.8155 - val_loss: 12.7294 - val_accuracy: 0.3490\n",
            "Epoch 30/50\n",
            "1563/1563 - 8s - loss: 0.5488 - accuracy: 0.8274 - val_loss: 13.2483 - val_accuracy: 0.3443\n",
            "Epoch 31/50\n",
            "1563/1563 - 8s - loss: 0.5487 - accuracy: 0.8272 - val_loss: 13.8040 - val_accuracy: 0.3489\n",
            "Epoch 32/50\n",
            "1563/1563 - 8s - loss: 0.5179 - accuracy: 0.8338 - val_loss: 13.7421 - val_accuracy: 0.3385\n",
            "Epoch 33/50\n",
            "1563/1563 - 8s - loss: 0.5091 - accuracy: 0.8360 - val_loss: 14.9078 - val_accuracy: 0.3561\n",
            "Epoch 34/50\n",
            "1563/1563 - 8s - loss: 0.5143 - accuracy: 0.8391 - val_loss: 15.2519 - val_accuracy: 0.3363\n",
            "Epoch 35/50\n",
            "1563/1563 - 8s - loss: 0.5156 - accuracy: 0.8427 - val_loss: 15.4493 - val_accuracy: 0.3474\n",
            "Epoch 36/50\n",
            "1563/1563 - 8s - loss: 0.5146 - accuracy: 0.8409 - val_loss: 16.9280 - val_accuracy: 0.3424\n",
            "Epoch 37/50\n",
            "1563/1563 - 8s - loss: 0.4520 - accuracy: 0.8560 - val_loss: 16.4147 - val_accuracy: 0.3289\n",
            "Epoch 38/50\n",
            "1563/1563 - 8s - loss: 0.4867 - accuracy: 0.8483 - val_loss: 17.5358 - val_accuracy: 0.3398\n",
            "Epoch 39/50\n",
            "1563/1563 - 8s - loss: 0.5032 - accuracy: 0.8494 - val_loss: 17.4897 - val_accuracy: 0.3504\n",
            "Epoch 40/50\n",
            "1563/1563 - 8s - loss: 0.4823 - accuracy: 0.8546 - val_loss: 17.2110 - val_accuracy: 0.3345\n",
            "Epoch 41/50\n",
            "1563/1563 - 8s - loss: 0.4579 - accuracy: 0.8605 - val_loss: 19.0327 - val_accuracy: 0.3356\n",
            "Epoch 42/50\n",
            "1563/1563 - 7s - loss: 0.4758 - accuracy: 0.8567 - val_loss: 20.0844 - val_accuracy: 0.3320\n",
            "Epoch 43/50\n",
            "1563/1563 - 8s - loss: 0.4523 - accuracy: 0.8643 - val_loss: 20.2114 - val_accuracy: 0.3457\n",
            "Epoch 44/50\n",
            "1563/1563 - 7s - loss: 0.4833 - accuracy: 0.8602 - val_loss: 19.8310 - val_accuracy: 0.3389\n",
            "Epoch 45/50\n",
            "1563/1563 - 7s - loss: 0.4539 - accuracy: 0.8649 - val_loss: 20.5689 - val_accuracy: 0.3447\n",
            "Epoch 46/50\n",
            "1563/1563 - 7s - loss: 0.4195 - accuracy: 0.8714 - val_loss: 21.6305 - val_accuracy: 0.3531\n",
            "Epoch 47/50\n",
            "1563/1563 - 7s - loss: 0.4174 - accuracy: 0.8735 - val_loss: 22.8673 - val_accuracy: 0.3493\n",
            "Epoch 48/50\n",
            "1563/1563 - 8s - loss: 0.4209 - accuracy: 0.8737 - val_loss: 22.2203 - val_accuracy: 0.3481\n",
            "Epoch 49/50\n",
            "1563/1563 - 8s - loss: 0.4296 - accuracy: 0.8734 - val_loss: 23.1910 - val_accuracy: 0.3497\n",
            "Epoch 50/50\n",
            "1563/1563 - 8s - loss: 0.4003 - accuracy: 0.8808 - val_loss: 23.6863 - val_accuracy: 0.3521\n"
          ],
          "name": "stdout"
        }
      ]
    },
    {
      "cell_type": "code",
      "metadata": {
        "id": "tChTuxzcGUcA",
        "colab": {
          "base_uri": "https://localhost:8080/",
          "height": 299
        },
        "outputId": "514301a1-53ac-4401-d3ad-efff8fa82f63"
      },
      "source": [
        "# plotting loss and accuracy values \n",
        "num_epochs=50\n",
        "plt.style.use('ggplot')\n",
        "plt.figure()\n",
        "#plt.plot(np.arange(num_epochs), history.history[\"loss\"], label=\"train_loss\")\n",
        "#plt.plot(np.arange(num_epochs), history.history[\"val_loss\"], label=\"val_loss\")\n",
        "plt.plot(np.arange(num_epochs), history.history[\"accuracy\"], label=\"train_acc\")\n",
        "plt.plot(np.arange(num_epochs), history.history[\"val_accuracy\"], label=\"val_acc\")\n",
        "plt.title(\"Accuracy and Loss Curves\")\n",
        "plt.xlabel(\"Epoch #\")\n",
        "plt.ylabel(\"Accuracy/Loss\")\n",
        "plt.legend()\n",
        "plt.show()\n"
      ],
      "execution_count": 8,
      "outputs": [
        {
          "output_type": "display_data",
          "data": {
            "image/png": "[encoded data removed]",
            "text/plain": [
              "<Figure size 432x288 with 1 Axes>"
            ]
          },
          "metadata": {
            "tags": []
          }
        }
      ]
    },
    {
      "cell_type": "markdown",
      "metadata": {
        "id": "ejIPOYgfSmtu"
      },
      "source": [
        "## Observations \n",
        "1. Lower validation accuracy of 35% compared to training accuracy of 88% indicates overfitting by this simple CNN model. Techniques including regularisation , batch normalization, data augmentation, etc can help reduce overfitting\n"
      ]
    }
  ]
}